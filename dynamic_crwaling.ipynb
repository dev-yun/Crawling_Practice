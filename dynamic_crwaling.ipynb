{
 "cells": [
  {
   "cell_type": "code",
   "execution_count": 1,
   "metadata": {},
   "outputs": [],
   "source": [
    "from selenium import webdriver\n",
    "from bs4 import BeautifulSoup\n",
    "import pandas as pd\n",
    "import urllib.request\n",
    "import time"
   ]
  },
  {
   "cell_type": "code",
   "execution_count": 2,
   "metadata": {},
   "outputs": [],
   "source": [
    "#CODE[2]\n",
    "def extract_url_execute(execute):\n",
    "    CoffeeBean_URL = \"https://www.coffeebeankorea.com/store/store.asp\"\n",
    "    wd = webdriver.Chrome(\"./WebDriver/chromedriver.exe\")\n",
    "    wd.get(CoffeeBean_URL)\n",
    "    \n",
    "    wd.find_element_by_xpath(\"//*[@id='region_srh']\").click()\n",
    "    wd.find_element_by_xpath(\"//*[@id='localTitle']\").click()\n",
    "    wd.find_element_by_xpath(\"//*[@id='storeLocal']/li[2]/a\").click()\n",
    "    wd.find_element_by_xpath(\"//*[@id='localTitle2']\").click()\n",
    "    time.sleep(0.5)\n",
    "    wd.find_element_by_xpath(\"//*[@id='storeLocal2']/li[9]/a\").click()\n",
    "    time.sleep(2) \n",
    "    htmlExecute = wd.page_source\n",
    "    soupExecute = BeautifulSoup(htmlExecute, 'html.parser')\n",
    "    storePop = soupExecute.select('div.store_txt > p > a.btn_style6')\n",
    "    \n",
    "    for i in range(0, 7):\n",
    "        execute.append(storePop[i][\"href\"][22:25])"
   ]
  },
  {
   "cell_type": "code",
   "execution_count": 3,
   "metadata": {},
   "outputs": [],
   "source": [
    "#CODE[1]\n",
    "def CoffeeBean_store(result):\n",
    "    CoffeeBean_URL = \"https://www.coffeebeankorea.com/store/store.asp\"\n",
    "    wd = webdriver.Chrome(\"./WebDriver/chromedriver.exe\")\n",
    "    wd.get(CoffeeBean_URL)\n",
    "    execute = [];\n",
    "    \n",
    "    extract_url_execute(execute)   #CODE[2]\n",
    "    print(execute)\n",
    "    \n",
    "    for store in execute:  #매장 수만큼 반복\n",
    "        wd.get(CoffeeBean_URL)\n",
    "        time.sleep(1)  #웹페이지 연결할 동안 1초 대기\n",
    "            \n",
    "        try:\n",
    "            wd.execute_script(\"storePop2(%s)\" %store)\n",
    "            time.sleep(1)\n",
    "            html = wd.page_source\n",
    "            soupCB = BeautifulSoup(html, 'html.parser')\n",
    "            store_name_h2 = soupCB.select(\"div.store_txt > h2\")\n",
    "            store_name = store_name_h2[0].string\n",
    "            print(store_name)  #매장 이름 출력하기\n",
    "            store_info = soupCB.select(\"div.store_txt > table.store_table > tbody > tr > td\")\n",
    "            store_address_list = list(store_info[2])\n",
    "            store_address = store_address_list[0]\n",
    "            store_phone = store_info[3].string\n",
    "            result.append([store_name]+[store_address]+[store_phone])\n",
    "        except:\n",
    "            continue\n",
    "    return"
   ]
  },
  {
   "cell_type": "code",
   "execution_count": 4,
   "metadata": {},
   "outputs": [],
   "source": [
    "#CODE[0]\n",
    "def main():\n",
    "    result = []\n",
    "    print('커피빈 지점 크롤링 >>>>>>>>>>>>>>>>>>>>>>>>>>>>>>')\n",
    "    CoffeeBean_store(result) #[CODE 1]\n",
    "    CB_tbl = pd.DataFrame(result, columns = ('store', 'address','phone'))\n",
    "    CB_tbl.to_csv('./CoffeeBean.csv', encoding = 'cp949', mode = 'w', index = True)"
   ]
  },
  {
   "cell_type": "code",
   "execution_count": null,
   "metadata": {
    "scrolled": true
   },
   "outputs": [],
   "source": [
    "if __name__ == '__main__':\n",
    "    main()"
   ]
  },
  {
   "cell_type": "code",
   "execution_count": null,
   "metadata": {},
   "outputs": [],
   "source": []
  }
 ],
 "metadata": {
  "kernelspec": {
   "display_name": "Python 3",
   "language": "python",
   "name": "python3"
  },
  "language_info": {
   "codemirror_mode": {
    "name": "ipython",
    "version": 3
   },
   "file_extension": ".py",
   "mimetype": "text/x-python",
   "name": "python",
   "nbconvert_exporter": "python",
   "pygments_lexer": "ipython3",
   "version": "3.8.5"
  }
 },
 "nbformat": 4,
 "nbformat_minor": 4
}

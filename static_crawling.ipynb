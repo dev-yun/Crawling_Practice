{
 "cells": [
  {
   "cell_type": "code",
   "execution_count": 1,
   "metadata": {},
   "outputs": [],
   "source": [
    "from bs4 import BeautifulSoup\n",
    "import urllib.request\n",
    "import pandas as pd"
   ]
  },
  {
   "cell_type": "code",
   "execution_count": 2,
   "metadata": {
    "scrolled": true
   },
   "outputs": [],
   "source": [
    " def hollys_store(result):\n",
    "    for page in range(1,54):\n",
    "        Hollys_url = 'https://www.hollys.co.kr/store/korea/korStore2.do?pageNo=%d&sido=&gugun=&store=' %page\n",
    "        print(Hollys_url)\n",
    "        html = urllib.request.urlopen(Hollys_url)\n",
    "        soupHollys = BeautifulSoup(html, 'html.parser')\n",
    "        tag_tbody = soupHollys.find('tbody')\n",
    "        \n",
    "        for store in tag_tbody.find_all('tr'):\n",
    "            if len(store) <= 3:\n",
    "                break\n",
    "            store_td = store.find_all('td')\n",
    "            if(store_td[0].string[0:2] == \"서울\"):\n",
    "                store_name = store_td[1].string\n",
    "                store_sido = store_td[0].string\n",
    "                store_address = store_td[3].string\n",
    "                store_phone = store_td[5].string\n",
    "                result.append([store_name]+[store_sido]+[store_address]+[store_phone])\n",
    "    return"
   ]
  },
  {
   "cell_type": "code",
   "execution_count": 3,
   "metadata": {},
   "outputs": [],
   "source": [
    "def main():\n",
    "    result = []\n",
    "    print(\"할리스 카페 크롤링 >>>>>>>>>>>>>>>>>>>>>>>>>>>>>>>>>>>>\")\n",
    "    hollys_store(result)\n",
    "    hollys_tbl = pd.DataFrame(result, columns = ('store', 'sido-gu', 'address', 'phone'))\n",
    "    hollys_tbl.to_csv(\"./hollys_seoul.csv\", encoding = \"cp949\", mode = \"w\", index = True)\n",
    "    del result[:]"
   ]
  },
  {
   "cell_type": "code",
   "execution_count": 4,
   "metadata": {},
   "outputs": [
    {
     "name": "stdout",
     "output_type": "stream",
     "text": [
      "할리스 카페 크롤링 >>>>>>>>>>>>>>>>>>>>>>>>>>>>>>>>>>>>\n",
      "https://www.hollys.co.kr/store/korea/korStore2.do?pageNo=1&sido=&gugun=&store=\n",
      "https://www.hollys.co.kr/store/korea/korStore2.do?pageNo=2&sido=&gugun=&store=\n",
      "https://www.hollys.co.kr/store/korea/korStore2.do?pageNo=3&sido=&gugun=&store=\n",
      "https://www.hollys.co.kr/store/korea/korStore2.do?pageNo=4&sido=&gugun=&store=\n",
      "https://www.hollys.co.kr/store/korea/korStore2.do?pageNo=5&sido=&gugun=&store=\n",
      "https://www.hollys.co.kr/store/korea/korStore2.do?pageNo=6&sido=&gugun=&store=\n",
      "https://www.hollys.co.kr/store/korea/korStore2.do?pageNo=7&sido=&gugun=&store=\n",
      "https://www.hollys.co.kr/store/korea/korStore2.do?pageNo=8&sido=&gugun=&store=\n",
      "https://www.hollys.co.kr/store/korea/korStore2.do?pageNo=9&sido=&gugun=&store=\n",
      "https://www.hollys.co.kr/store/korea/korStore2.do?pageNo=10&sido=&gugun=&store=\n",
      "https://www.hollys.co.kr/store/korea/korStore2.do?pageNo=11&sido=&gugun=&store=\n",
      "https://www.hollys.co.kr/store/korea/korStore2.do?pageNo=12&sido=&gugun=&store=\n",
      "https://www.hollys.co.kr/store/korea/korStore2.do?pageNo=13&sido=&gugun=&store=\n",
      "https://www.hollys.co.kr/store/korea/korStore2.do?pageNo=14&sido=&gugun=&store=\n",
      "https://www.hollys.co.kr/store/korea/korStore2.do?pageNo=15&sido=&gugun=&store=\n",
      "https://www.hollys.co.kr/store/korea/korStore2.do?pageNo=16&sido=&gugun=&store=\n",
      "https://www.hollys.co.kr/store/korea/korStore2.do?pageNo=17&sido=&gugun=&store=\n",
      "https://www.hollys.co.kr/store/korea/korStore2.do?pageNo=18&sido=&gugun=&store=\n",
      "https://www.hollys.co.kr/store/korea/korStore2.do?pageNo=19&sido=&gugun=&store=\n",
      "https://www.hollys.co.kr/store/korea/korStore2.do?pageNo=20&sido=&gugun=&store=\n",
      "https://www.hollys.co.kr/store/korea/korStore2.do?pageNo=21&sido=&gugun=&store=\n",
      "https://www.hollys.co.kr/store/korea/korStore2.do?pageNo=22&sido=&gugun=&store=\n",
      "https://www.hollys.co.kr/store/korea/korStore2.do?pageNo=23&sido=&gugun=&store=\n",
      "https://www.hollys.co.kr/store/korea/korStore2.do?pageNo=24&sido=&gugun=&store=\n",
      "https://www.hollys.co.kr/store/korea/korStore2.do?pageNo=25&sido=&gugun=&store=\n",
      "https://www.hollys.co.kr/store/korea/korStore2.do?pageNo=26&sido=&gugun=&store=\n",
      "https://www.hollys.co.kr/store/korea/korStore2.do?pageNo=27&sido=&gugun=&store=\n",
      "https://www.hollys.co.kr/store/korea/korStore2.do?pageNo=28&sido=&gugun=&store=\n",
      "https://www.hollys.co.kr/store/korea/korStore2.do?pageNo=29&sido=&gugun=&store=\n",
      "https://www.hollys.co.kr/store/korea/korStore2.do?pageNo=30&sido=&gugun=&store=\n",
      "https://www.hollys.co.kr/store/korea/korStore2.do?pageNo=31&sido=&gugun=&store=\n",
      "https://www.hollys.co.kr/store/korea/korStore2.do?pageNo=32&sido=&gugun=&store=\n",
      "https://www.hollys.co.kr/store/korea/korStore2.do?pageNo=33&sido=&gugun=&store=\n",
      "https://www.hollys.co.kr/store/korea/korStore2.do?pageNo=34&sido=&gugun=&store=\n",
      "https://www.hollys.co.kr/store/korea/korStore2.do?pageNo=35&sido=&gugun=&store=\n",
      "https://www.hollys.co.kr/store/korea/korStore2.do?pageNo=36&sido=&gugun=&store=\n",
      "https://www.hollys.co.kr/store/korea/korStore2.do?pageNo=37&sido=&gugun=&store=\n",
      "https://www.hollys.co.kr/store/korea/korStore2.do?pageNo=38&sido=&gugun=&store=\n",
      "https://www.hollys.co.kr/store/korea/korStore2.do?pageNo=39&sido=&gugun=&store=\n",
      "https://www.hollys.co.kr/store/korea/korStore2.do?pageNo=40&sido=&gugun=&store=\n",
      "https://www.hollys.co.kr/store/korea/korStore2.do?pageNo=41&sido=&gugun=&store=\n",
      "https://www.hollys.co.kr/store/korea/korStore2.do?pageNo=42&sido=&gugun=&store=\n",
      "https://www.hollys.co.kr/store/korea/korStore2.do?pageNo=43&sido=&gugun=&store=\n",
      "https://www.hollys.co.kr/store/korea/korStore2.do?pageNo=44&sido=&gugun=&store=\n",
      "https://www.hollys.co.kr/store/korea/korStore2.do?pageNo=45&sido=&gugun=&store=\n",
      "https://www.hollys.co.kr/store/korea/korStore2.do?pageNo=46&sido=&gugun=&store=\n",
      "https://www.hollys.co.kr/store/korea/korStore2.do?pageNo=47&sido=&gugun=&store=\n",
      "https://www.hollys.co.kr/store/korea/korStore2.do?pageNo=48&sido=&gugun=&store=\n",
      "https://www.hollys.co.kr/store/korea/korStore2.do?pageNo=49&sido=&gugun=&store=\n",
      "https://www.hollys.co.kr/store/korea/korStore2.do?pageNo=50&sido=&gugun=&store=\n",
      "https://www.hollys.co.kr/store/korea/korStore2.do?pageNo=51&sido=&gugun=&store=\n",
      "https://www.hollys.co.kr/store/korea/korStore2.do?pageNo=52&sido=&gugun=&store=\n",
      "https://www.hollys.co.kr/store/korea/korStore2.do?pageNo=53&sido=&gugun=&store=\n"
     ]
    }
   ],
   "source": [
    "if __name__ == '__main__':\n",
    "    main()"
   ]
  },
  {
   "cell_type": "code",
   "execution_count": 6,
   "metadata": {},
   "outputs": [],
   "source": [
    "Hollys_url = 'https://www.hollys.co.kr/store/korea/korStore2.do?pageNo=%d&sido=&gugun=&store='\n",
    "html = urllib.request.urlopen(Hollys_url)\n",
    "soupHollys = BeautifulSoup(html, 'html.parser')\n",
    "tag_tbody = soupHollys.find('tbody')"
   ]
  },
  {
   "cell_type": "code",
   "execution_count": 12,
   "metadata": {},
   "outputs": [],
   "source": [
    "store = tag_tbody.find('tr')"
   ]
  },
  {
   "cell_type": "code",
   "execution_count": 13,
   "metadata": {},
   "outputs": [],
   "source": [
    "store_td = store.find('td')"
   ]
  },
  {
   "cell_type": "code",
   "execution_count": 14,
   "metadata": {},
   "outputs": [
    {
     "data": {
      "text/plain": [
       "<tr>\n",
       "<!--\n",
       "\t\t\t\t<td class=\"noline center_t\">\n",
       "\t\t\t\t\t\t\t\t\t\t\t\t\t\t\t\t<a href=\"javascript:goLogin();\"><img src=\"https://www.hollys.co.kr/websrc/images/store/ico_favorite_off.png\" alt=\"즐겨찾기\"></a>\n",
       "\t\t\t\t\t\t\t\t\t</td>\n",
       "\t\t\t\t -->\n",
       "<td class=\"noline center_t\">경기 하남시</td>\n",
       "<td class=\"center_t\"><a href=\"#\" onclick=\"javascript:storeView(989); return false;\">미사효성해링턴점</a></td>\n",
       "<td class=\"center_t tdp0\">영업중</td>\n",
       "<td class=\"center_t\"><a href=\"#\" onclick=\"javascript:storeView(989); return false;\">경기도 하남시 아리수로 570,1~2층 망월동 미사효성해링턴타워더퍼스</a></td>\n",
       "<td class=\"center_t\">\n",
       "<img alt=\"테라스\" src=\"https://www.hollys.co.kr/websrc/images/store/img_store_s02.gif\" style=\"margin-right:1px\"/>\n",
       "<img alt=\"주차\" src=\"https://www.hollys.co.kr/websrc/images/store/img_store_s08.png\" style=\"margin-right:1px\"/>\n",
       "</td>\n",
       "<td class=\"center_t\">070-7733-9710</td>\n",
       "</tr>"
      ]
     },
     "execution_count": 14,
     "metadata": {},
     "output_type": "execute_result"
    }
   ],
   "source": [
    "store"
   ]
  },
  {
   "cell_type": "code",
   "execution_count": 16,
   "metadata": {},
   "outputs": [
    {
     "data": {
      "text/plain": [
       "'경기 하남시'"
      ]
     },
     "execution_count": 16,
     "metadata": {},
     "output_type": "execute_result"
    }
   ],
   "source": [
    "store_td.string"
   ]
  },
  {
   "cell_type": "code",
   "execution_count": null,
   "metadata": {},
   "outputs": [],
   "source": []
  }
 ],
 "metadata": {
  "kernelspec": {
   "display_name": "Python 3",
   "language": "python",
   "name": "python3"
  },
  "language_info": {
   "codemirror_mode": {
    "name": "ipython",
    "version": 3
   },
   "file_extension": ".py",
   "mimetype": "text/x-python",
   "name": "python",
   "nbconvert_exporter": "python",
   "pygments_lexer": "ipython3",
   "version": "3.8.5"
  }
 },
 "nbformat": 4,
 "nbformat_minor": 4
}
